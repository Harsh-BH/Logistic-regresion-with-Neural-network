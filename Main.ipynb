{
 "cells": [
  {
   "cell_type": "code",
   "execution_count": 1,
   "metadata": {},
   "outputs": [],
   "source": [
    "import numpy as np\n",
    "import pandas as pd\n",
    "import matplotlib.pyplot as plt\n"
   ]
  },
  {
   "cell_type": "code",
   "execution_count": 19,
   "metadata": {},
   "outputs": [],
   "source": [
    "import numpy as np\n",
    "import h5py\n",
    "\n",
    "def load_dataset():\n",
    "    train_dataset = h5py.File('W2A2/datasets/train_catvnoncat.h5', \"r\")\n",
    "    train_set_x_orig = np.array(train_dataset[\"train_set_x\"][:])  # your train set features\n",
    "    df = train_set_x_orig  # This is your df definition\n",
    "    train_set_y_orig = np.array(train_dataset[\"train_set_y\"][:])  # your train set labels\n",
    "\n",
    "    test_dataset = h5py.File('W2A2/datasets/test_catvnoncat.h5', \"r\")\n",
    "    test_set_x_orig = np.array(test_dataset[\"test_set_x\"][:])  # your test set features\n",
    "    test_set_y_orig = np.array(test_dataset[\"test_set_y\"][:])  # your test set labels\n",
    "\n",
    "    classes = np.array(test_dataset[\"list_classes\"][:])  # the list of classes\n",
    "    \n",
    "    train_set_y_orig = train_set_y_orig.reshape((1, train_set_y_orig.shape[0]))\n",
    "    test_set_y_orig = test_set_y_orig.reshape((1, test_set_y_orig.shape[0]))\n",
    "    \n",
    "    return train_set_x_orig, train_set_y_orig, test_set_x_orig, test_set_y_orig, classes\n",
    "\n",
    "\n"
   ]
  },
  {
   "cell_type": "code",
   "execution_count": 20,
   "metadata": {},
   "outputs": [],
   "source": [
    "train_x, train_y, test_x, test_y, classes = load_dataset()"
   ]
  },
  {
   "cell_type": "code",
   "execution_count": 31,
   "metadata": {},
   "outputs": [
    {
     "name": "stdout",
     "output_type": "stream",
     "text": [
      "shape of training set: (209, 64, 64, 3)\n",
      "shape of test set: (50, 64, 64, 3)\n",
      "[b'non-cat' b'cat']\n",
      "shape of training set: (1, 209)\n",
      "shape of test set: (1, 50)\n"
     ]
    }
   ],
   "source": [
    "print(f\"shape of training set:\",train_x.shape)\n",
    "print(f\"shape of test set:\",test_x.shape)\n",
    "print(classes)\n",
    "print(f\"shape of training set:\",train_y.shape)\n",
    "print(f\"shape of test set:\",test_y.shape)\n"
   ]
  },
  {
   "cell_type": "code",
   "execution_count": 37,
   "metadata": {},
   "outputs": [
    {
     "name": "stdout",
     "output_type": "stream",
     "text": [
      "shape of flatten training set: (12288, 209)\n",
      "shape of flatten test set: (12288, 50)\n"
     ]
    }
   ],
   "source": [
    "x_train_flatten = train_x.reshape(train_x.shape[0],-1).T\n",
    "x_test_flatten = test_x.reshape(test_x.shape[0],-1).T\n",
    "\n",
    "print(f\"shape of flatten training set:\",x_train_flatten.shape)\n",
    "print(f\"shape of flatten test set:\",x_test_flatten.shape)\n",
    "\n",
    "m_train = x_train_flatten.shape[1]\n",
    "m_test = x_test_flatten.shape[1]\n",
    "num_px = train_x.shape[1]"
   ]
  },
  {
   "cell_type": "code",
   "execution_count": 40,
   "metadata": {},
   "outputs": [],
   "source": [
    "def initialize_with_zeros(dim):\n",
    "\n",
    "  w= np.zeros((dim,1))\n",
    "  b= 0\n",
    "\n",
    "  return w,b"
   ]
  },
  {
   "cell_type": "code",
   "execution_count": 41,
   "metadata": {},
   "outputs": [],
   "source": [
    "def sigmoid(z):\n",
    "  s = 1/(1+np.exp(-z))\n",
    "\n",
    "  return s"
   ]
  },
  {
   "cell_type": "code",
   "execution_count": null,
   "metadata": {},
   "outputs": [],
   "source": [
    "def propagate(w,b,X,Y):\n",
    "\n",
    "  \n",
    "\n",
    "  A = sigmoid(np.dot(w.T,X)+b)\n",
    "\n",
    "  m = A.shape[0]\n",
    "\n",
    "  loss =(-1/m)*np.sum(Y*np.log(A)+(1-Y)*np.log(1-A))\n",
    "\n",
    "  dw = (1/m)*np.sum(np.dot((X,(A-y).T)))\n",
    "\n",
    "  db = np.sum(A-Y)/m\n",
    "\n",
    "  cost = np.squeeze(np.array(cost))\n"
   ]
  }
 ],
 "metadata": {
  "kernelspec": {
   "display_name": "base",
   "language": "python",
   "name": "python3"
  },
  "language_info": {
   "codemirror_mode": {
    "name": "ipython",
    "version": 3
   },
   "file_extension": ".py",
   "mimetype": "text/x-python",
   "name": "python",
   "nbconvert_exporter": "python",
   "pygments_lexer": "ipython3",
   "version": "3.11.7"
  }
 },
 "nbformat": 4,
 "nbformat_minor": 2
}
